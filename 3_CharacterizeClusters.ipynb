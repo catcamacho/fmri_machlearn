{
 "cells": [
  {
   "cell_type": "markdown",
   "metadata": {},
   "source": [
    "# Characterizing Brain Regions Contributing to the Models"
   ]
  },
  {
   "cell_type": "markdown",
   "metadata": {},
   "source": [
    "### Take the absolute value of the SVM weights"
   ]
  },
  {
   "cell_type": "code",
   "execution_count": null,
   "metadata": {},
   "outputs": [],
   "source": [
    "from nibabel import load, save, Nifti1Image\n",
    "from numpy import absolute\n",
    "\n",
    "analysis = ['all_conditions','allConds_predAge','negative','neutral','positive']\n",
    "\n",
    "for a in analysis:\n",
    "    file = '/home/camachocm2/Analysis/KidVid_MVPA/analysis/classifier/svmweights_%s.nii.gz' % a\n",
    "    temp_nii = load(file)\n",
    "    temp_data = temp_nii.get_data()\n",
    "    new_data = absolute(temp_data)\n",
    "    new_nii = Nifti1Image(new_data,header=temp_nii.header,affine=temp_nii.affine)\n",
    "    new_file = '/home/camachocm2/Analysis/KidVid_MVPA/analysis/classifier/svmABSweights_%s.nii.gz' % a\n",
    "    save(new_nii,new_file)"
   ]
  },
  {
   "cell_type": "markdown",
   "metadata": {},
   "source": [
    "### Cluster the volumes"
   ]
  },
  {
   "cell_type": "code",
   "execution_count": null,
   "metadata": {},
   "outputs": [],
   "source": [
    "from nipype.interfaces.fsl import Cluster\n",
    "\n",
    "analysis = ['all_conditions','allConds_predAge','negative','neutral','positive']\n",
    "\n",
    "for a in analysis:\n",
    "    file = '/home/camachocm2/Analysis/KidVid_MVPA/analysis/classifier/svmABSweights_%s.nii.gz' % a\n",
    "    cl = Cluster()\n",
    "    cl.inputs.in_file = file\n",
    "    cl.inputs.out_localmax_txt_file = 'cluster_stats_%s.txt' % a\n",
    "    cl.inputs.threshold = 0.000001\n",
    "    cl.inputs.out_index_file = True\n",
    "    cl.inputs.index_file = 'clusters_%s.nii.gz' % a\n",
    "    cl.run()"
   ]
  },
  {
   "cell_type": "markdown",
   "metadata": {},
   "source": [
    "### Extract parameter estimates for each cluster"
   ]
  },
  {
   "cell_type": "code",
   "execution_count": null,
   "metadata": {},
   "outputs": [],
   "source": [
    "def extract_cluster_betas(cluster_index_file, sample_betas, min_clust_size, subject_ids):\n",
    "    from nibabel import load, save, Nifti1Image\n",
    "    from pandas import DataFrame, Series\n",
    "    from numpy import unique, zeros_like, invert\n",
    "    from nipype.interfaces.fsl.utils import ImageMeants\n",
    "    from os.path import abspath, basename\n",
    "    \n",
    "    subject_ids = sorted(subject_ids)\n",
    "    sample_data = DataFrame(subject_ids, index=None, columns=['Subject'])\n",
    "    \n",
    "    cluster_nifti = load(cluster_index_file)\n",
    "    cluster_data = cluster_nifti.get_data()\n",
    "    clusters, cluster_sizes = unique(cluster_data, return_counts=True)\n",
    "    cluster_sizes = cluster_sizes[clusters>0]\n",
    "    clusters = clusters[clusters>0]\n",
    "    ind_filename = basename(cluster_index_file) \n",
    "    out_prefix = ind_filename[:-7]\n",
    "    \n",
    "    for clust_idx in clusters:\n",
    "        temp = zeros_like(cluster_data)\n",
    "        temp[cluster_data==clust_idx] = 1\n",
    "        temp_nii = Nifti1Image(temp,cluster_nifti.affine)\n",
    "        temp_file = 'temp_clust_mask.nii.gz'\n",
    "        save(temp_nii, temp_file)\n",
    "\n",
    "        eb = ImageMeants()\n",
    "        eb.inputs.in_file = sample_betas\n",
    "        eb.inputs.mask = temp_file\n",
    "        eb.inputs.out_file = 'betas.txt'\n",
    "        eb.run()\n",
    "        betas = open('betas.txt').read().splitlines()\n",
    "        sample_data['clust' + str(clust_idx)] = Series(betas, index=sample_data.index)\n",
    "    \n",
    "    sample_data.to_csv(out_prefix+'_extracted_betas.csv')\n",
    "    extracted_betas_csv = abspath(out_prefix+'_extracted_betas.csv')\n",
    "    \n",
    "    print('###### ' + out_prefix + ' #######')\n",
    "    print('cluster labels: '+str(clusters))\n",
    "    print('cluster sizes: '+str(cluster_sizes))\n",
    "    return(extracted_betas_csv)"
   ]
  },
  {
   "cell_type": "code",
   "execution_count": null,
   "metadata": {},
   "outputs": [],
   "source": [
    "from glob import glob\n",
    "from pandas import read_csv\n",
    "index_files = glob('/home/camachocm2/Analysis/KidVid_MVPA/analysis/classifier/clustering/*_clusters.nii.gz')\n",
    "sample_betas = '/home/camachocm2/Analysis/KidVid_MVPA/analysis/classifier/featureset.nii.gz'\n",
    "subject_info = read_csv('/home/camachocm2/Analysis/KidVid_MVPA/analysis/classifier/featureset_key.csv',index_col=0)\n",
    "\n",
    "subject_ids = subject_info['subject']\n",
    "min_clust_size = 0\n",
    "\n",
    "for clusters in index_files:\n",
    "    extract_cluster_betas(clusters, sample_betas, min_clust_size, subject_ids)"
   ]
  },
  {
   "cell_type": "code",
   "execution_count": null,
   "metadata": {},
   "outputs": [],
   "source": [
    "def get_cluster_peaks(clusters_file, stat_file):\n",
    "    from nibabel import load, save, Nifti1Image\n",
    "    from pandas import DataFrame, Series\n",
    "    from numpy import unique, unravel_index, max\n",
    "    \n",
    "    # load up clusters\n",
    "    clusters_nii = load(clusters_file)\n",
    "    clusters_data = clusters_nii.get_data()\n",
    "    cluster_labels, cluster_sizes = unique(clusters_data, return_counts=True)\n",
    "    cluster_sizes = cluster_sizes[cluster_labels>0]\n",
    "    cluster_labels = cluster_labels[cluster_labels>0]\n",
    "    \n",
    "    # set up dataframe\n",
    "    cluster_info = DataFrame(columns=['clust_num','peak','num_voxels','X','Y','Z'])\n",
    "    cluster_info['clust_num'] = Series(cluster_labels,index=None)\n",
    "    \n",
    "    for i in range(0,len(cluster_labels)):\n",
    "        # load up stat image\n",
    "        stat_nii = load(stat_file)\n",
    "        stat_data = stat_nii.get_data()\n",
    "        stat_data[clusters_data!=cluster_labels[i]]=0\n",
    "        location=unravel_index(stat_data.argmax(), stat_data.shape)\n",
    "        cluster_info.iloc[i,0]=cluster_labels[i]\n",
    "        cluster_info.iloc[i,1]=max(stat_data)\n",
    "        cluster_info.iloc[i,2]=cluster_sizes[i]\n",
    "        cluster_info.iloc[i,3]=location[0]\n",
    "        cluster_info.iloc[i,4]=location[1]\n",
    "        cluster_info.iloc[i,5]=location[2]\n",
    "    \n",
    "    out_prefix = clusters_file[:-7]\n",
    "    cluster_info.to_csv(out_prefix + '_peaks.csv')\n",
    "    return(cluster_info)\n",
    "        "
   ]
  },
  {
   "cell_type": "code",
   "execution_count": null,
   "metadata": {},
   "outputs": [],
   "source": [
    "cluster_files = ['/home/camachocm2/Analysis/KidVid_MVPA/analysis/classifier/clustering/all_conditions_cluster6_clusters.nii.gz',\n",
    "                 '/home/camachocm2/Analysis/KidVid_MVPA/analysis/classifier/clustering/all_conditions_cluster7_clusters.nii.gz',\n",
    "                 '/home/camachocm2/Analysis/KidVid_MVPA/analysis/classifier/clustering/allCondspredAge_cluster21_clusters.nii.gz',\n",
    "                 '/home/camachocm2/Analysis/KidVid_MVPA/analysis/classifier/clustering/negative_cluster21_clusters.nii.gz',\n",
    "                 '/home/camachocm2/Analysis/KidVid_MVPA/analysis/classifier/clustering/neutral_cluster12_clusters.nii.gz',\n",
    "                 '/home/camachocm2/Analysis/KidVid_MVPA/analysis/classifier/clustering/positive_cluster25_clusters.nii.gz']\n",
    "\n",
    "stat_files=['/home/camachocm2/Analysis/KidVid_MVPA/analysis/classifier/clustering/svmABSweights_all_conditions.nii.gz',\n",
    "            '/home/camachocm2/Analysis/KidVid_MVPA/analysis/classifier/clustering/svmABSweights_all_conditions.nii.gz',\n",
    "            '/home/camachocm2/Analysis/KidVid_MVPA/analysis/classifier/clustering/svmABSweights_allConds_predAge.nii.gz',\n",
    "            '/home/camachocm2/Analysis/KidVid_MVPA/analysis/classifier/clustering/svmABSweights_negative.nii.gz',\n",
    "            '/home/camachocm2/Analysis/KidVid_MVPA/analysis/classifier/clustering/svmABSweights_neutral.nii.gz',\n",
    "            '/home/camachocm2/Analysis/KidVid_MVPA/analysis/classifier/clustering/svmABSweights_positive.nii.gz']\n",
    "\n",
    "for j in range(0,len(cluster_files)):\n",
    "    get_cluster_peaks(cluster_files[j], stat_files[j])"
   ]
  },
  {
   "cell_type": "code",
   "execution_count": null,
   "metadata": {},
   "outputs": [],
   "source": [
    "cluster_info"
   ]
  }
 ],
 "metadata": {
  "kernelspec": {
   "display_name": "Python 3",
   "language": "python",
   "name": "python3"
  },
  "language_info": {
   "codemirror_mode": {
    "name": "ipython",
    "version": 3
   },
   "file_extension": ".py",
   "mimetype": "text/x-python",
   "name": "python",
   "nbconvert_exporter": "python",
   "pygments_lexer": "ipython3",
   "version": "3.5.2"
  }
 },
 "nbformat": 4,
 "nbformat_minor": 2
}
