{
 "cells": [
  {
   "cell_type": "markdown",
   "metadata": {},
   "source": [
    "# Build the Classifier\n",
    "This notebook is dedicated to creating classifiers and run classification analyses of interest on neuroimaging data.\n",
    "\n",
    "Can we accurately classify:\n",
    "- adults vs. children\n",
    "- condition within adults\n",
    "- condition within children"
   ]
  },
  {
   "cell_type": "code",
   "execution_count": 1,
   "metadata": {},
   "outputs": [],
   "source": [
    "from pandas import DataFrame, Series, read_csv\n",
    "\n",
    "# Study specific variables\n",
    "study_home = '/home/camachocm2/Analysis/KidVid_MVPA'\n",
    "standard_mask = study_home + '/template/MNI152_T1_2mm_brain_mask_KV.nii.gz'\n",
    "template = study_home + '/template/MNI152_T1_1mm_brain.nii.gz'\n",
    "sub_data_file = study_home + '/doc/subjectinfo.csv'\n",
    "preproc_dir = study_home + '/analysis/preproc/betas'\n",
    "output_dir = study_home + '/analysis/classifier'\n",
    "\n",
    "condition_data = read_csv(study_home + '/doc/conditionslist.csv')\n",
    "subject_info = read_csv(sub_data_file)"
   ]
  },
  {
   "cell_type": "code",
   "execution_count": 2,
   "metadata": {},
   "outputs": [
    {
     "data": {
      "text/html": [
       "<div>\n",
       "<style scoped>\n",
       "    .dataframe tbody tr th:only-of-type {\n",
       "        vertical-align: middle;\n",
       "    }\n",
       "\n",
       "    .dataframe tbody tr th {\n",
       "        vertical-align: top;\n",
       "    }\n",
       "\n",
       "    .dataframe thead th {\n",
       "        text-align: right;\n",
       "    }\n",
       "</style>\n",
       "<table border=\"1\" class=\"dataframe\">\n",
       "  <thead>\n",
       "    <tr style=\"text-align: right;\">\n",
       "      <th></th>\n",
       "      <th>labels</th>\n",
       "      <th>subject</th>\n",
       "      <th>ageGroup</th>\n",
       "    </tr>\n",
       "  </thead>\n",
       "  <tbody>\n",
       "    <tr>\n",
       "      <th>count</th>\n",
       "      <td>1224</td>\n",
       "      <td>1224</td>\n",
       "      <td>1224</td>\n",
       "    </tr>\n",
       "    <tr>\n",
       "      <th>unique</th>\n",
       "      <td>3</td>\n",
       "      <td>51</td>\n",
       "      <td>2</td>\n",
       "    </tr>\n",
       "    <tr>\n",
       "      <th>top</th>\n",
       "      <td>negative</td>\n",
       "      <td>A1004</td>\n",
       "      <td>child</td>\n",
       "    </tr>\n",
       "    <tr>\n",
       "      <th>freq</th>\n",
       "      <td>408</td>\n",
       "      <td>24</td>\n",
       "      <td>720</td>\n",
       "    </tr>\n",
       "  </tbody>\n",
       "</table>\n",
       "</div>"
      ],
      "text/plain": [
       "          labels subject ageGroup\n",
       "count       1224    1224     1224\n",
       "unique         3      51        2\n",
       "top     negative   A1004    child\n",
       "freq         408      24      720"
      ]
     },
     "execution_count": 2,
     "metadata": {},
     "output_type": "execute_result"
    }
   ],
   "source": [
    "## Create a conditions list for the feature set\n",
    "condition_labels = condition_data['labels'].tolist()\n",
    "subjects_list = subject_info['subjID'].tolist()\n",
    "age_group_list = subject_info['group'].tolist()\n",
    "\n",
    "conditions = condition_data\n",
    "conditions['subject'] = Series(subjects_list[0], index=conditions.index)\n",
    "conditions['ageGroup'] = Series(age_group_list[0], index=conditions.index)\n",
    "\n",
    "for a in range(1,len(subjects_list)):\n",
    "    temp=DataFrame()\n",
    "    temp['labels'] = Series(condition_labels)\n",
    "    temp['subject'] = Series(subjects_list[a], index=temp.index)\n",
    "    temp['ageGroup'] = Series(age_group_list[a], index=temp.index)\n",
    "    conditions = conditions.append(temp, ignore_index=True)\n",
    "\n",
    "#conditions.to_csv(output_dir + '/featureset_key.csv')\n",
    "conditions.describe()"
   ]
  },
  {
   "cell_type": "code",
   "execution_count": 3,
   "metadata": {},
   "outputs": [],
   "source": [
    "## Temporally concatenate all the parameter estimates from preproc to create a feature set\n",
    "from glob import glob\n",
    "from nipype.interfaces.fsl.utils import Merge\n",
    "files = glob(preproc_dir + '/*/betas.nii.gz')\n",
    "files = sorted(files)\n",
    "\n",
    "bold_feature_data = output_dir + '/featureset.nii.gz'\n",
    "\n",
    "merge = Merge()\n",
    "merge.inputs.in_files = files\n",
    "merge.inputs.dimension = 't'\n",
    "merge.inputs.merged_file = bold_feature_data\n",
    "#merge.run()"
   ]
  },
  {
   "cell_type": "code",
   "execution_count": 4,
   "metadata": {},
   "outputs": [
    {
     "data": {
      "text/html": [
       "<div>\n",
       "<style scoped>\n",
       "    .dataframe tbody tr th:only-of-type {\n",
       "        vertical-align: middle;\n",
       "    }\n",
       "\n",
       "    .dataframe tbody tr th {\n",
       "        vertical-align: top;\n",
       "    }\n",
       "\n",
       "    .dataframe thead th {\n",
       "        text-align: right;\n",
       "    }\n",
       "</style>\n",
       "<table border=\"1\" class=\"dataframe\">\n",
       "  <thead>\n",
       "    <tr style=\"text-align: right;\">\n",
       "      <th></th>\n",
       "      <th>labels</th>\n",
       "      <th>subject</th>\n",
       "      <th>ageGroup</th>\n",
       "    </tr>\n",
       "  </thead>\n",
       "  <tbody>\n",
       "    <tr>\n",
       "      <th>count</th>\n",
       "      <td>408</td>\n",
       "      <td>408</td>\n",
       "      <td>408</td>\n",
       "    </tr>\n",
       "    <tr>\n",
       "      <th>unique</th>\n",
       "      <td>1</td>\n",
       "      <td>51</td>\n",
       "      <td>2</td>\n",
       "    </tr>\n",
       "    <tr>\n",
       "      <th>top</th>\n",
       "      <td>positive</td>\n",
       "      <td>A1004</td>\n",
       "      <td>child</td>\n",
       "    </tr>\n",
       "    <tr>\n",
       "      <th>freq</th>\n",
       "      <td>408</td>\n",
       "      <td>8</td>\n",
       "      <td>240</td>\n",
       "    </tr>\n",
       "  </tbody>\n",
       "</table>\n",
       "</div>"
      ],
      "text/plain": [
       "          labels subject ageGroup\n",
       "count        408     408      408\n",
       "unique         1      51        2\n",
       "top     positive   A1004    child\n",
       "freq         408       8      240"
      ]
     },
     "execution_count": 4,
     "metadata": {},
     "output_type": "execute_result"
    }
   ],
   "source": [
    "# determine which analysis to run\n",
    "analysis = 'positive'\n",
    "\n",
    "if analysis == 'all_conditions':\n",
    "    mask = conditions['labels'].isin(['negative','positive','neutral'])\n",
    "    labels = conditions['labels']\n",
    "elif analysis == 'adults':\n",
    "    mask = conditions['ageGroup'].isin(['adult'])\n",
    "    labels = conditions['labels']\n",
    "elif analysis == 'children':\n",
    "    mask = conditions['ageGroup'].isin(['child'])\n",
    "    labels = conditions['labels']\n",
    "elif analysis == 'allConds_predAge':\n",
    "    mask = conditions['labels'].isin(['negative','positive','neutral'])\n",
    "    labels = conditions['ageGroup']\n",
    "elif analysis == 'negative':\n",
    "    mask = conditions['labels'].isin(['negative'])\n",
    "    labels = conditions['ageGroup']\n",
    "elif analysis == 'positive':\n",
    "    mask = conditions['labels'].isin(['positive'])\n",
    "    labels = conditions['ageGroup']\n",
    "elif analysis == 'neutral':\n",
    "    mask = conditions['labels'].isin(['neutral'])\n",
    "    labels = conditions['ageGroup']\n",
    "\n",
    "conditions[mask].describe()"
   ]
  },
  {
   "cell_type": "markdown",
   "metadata": {},
   "source": [
    "## Perform the actual support vector classification"
   ]
  },
  {
   "cell_type": "code",
   "execution_count": 5,
   "metadata": {},
   "outputs": [
    {
     "name": "stderr",
     "output_type": "stream",
     "text": [
      "/usr/local/lib/python3.5/dist-packages/sklearn/cross_validation.py:41: DeprecationWarning: This module was deprecated in version 0.18 in favor of the model_selection module into which all the refactored classes and functions are moved. Also note that the interface of the new CV iterators are different from that of this module. This module will be removed in 0.20.\n",
      "  \"This module will be removed in 0.20.\", DeprecationWarning)\n"
     ]
    },
    {
     "name": "stdout",
     "output_type": "stream",
     "text": [
      "Classification accuracy: 0.7132 / Chance level: 0.500000\n"
     ]
    }
   ],
   "source": [
    "# Perform the support vector classification\n",
    "from nilearn.input_data import NiftiMasker\n",
    "from sklearn.svm import SVC\n",
    "from sklearn.feature_selection import SelectPercentile, f_classif\n",
    "from sklearn.pipeline import Pipeline\n",
    "\n",
    "# Set up the support vector classifier\n",
    "svc = SVC(kernel='linear')\n",
    "masker = NiftiMasker(mask_img=standard_mask,standardize=True, \n",
    "                     memory='nilearn_cache', memory_level=1)\n",
    "feature_selection = SelectPercentile(f_classif, percentile=5)\n",
    "anova_svc = Pipeline([('anova', feature_selection), ('svc', svc)])\n",
    "\n",
    "# Run the classifier\n",
    "X = masker.fit_transform(bold_feature_data)\n",
    "X = X[mask]\n",
    "maskedlabels=labels[mask]\n",
    "anova_svc.fit(X, maskedlabels)\n",
    "y_pred = anova_svc.predict(X)\n",
    "\n",
    "# Obtain prediction values via cross validation\n",
    "from sklearn.cross_validation import LeaveOneLabelOut, cross_val_score\n",
    "\n",
    "cv = LeaveOneLabelOut(conditions['subject'][mask])\n",
    "cv_scores = cross_val_score(anova_svc, X, maskedlabels, cv=cv)\n",
    "classification_accuracy = cv_scores.mean()\n",
    "\n",
    "\n",
    "print(\"Classification accuracy: %.4f / Chance level: %f\" % \n",
    "      (classification_accuracy, 1. / len(labels.unique())))"
   ]
  },
  {
   "cell_type": "markdown",
   "metadata": {},
   "source": [
    "## Perform permutation testing to get a p-value for the classifier"
   ]
  },
  {
   "cell_type": "code",
   "execution_count": null,
   "metadata": {},
   "outputs": [],
   "source": [
    "from sklearn.model_selection import permutation_test_score\n",
    "import matplotlib.pyplot as plt\n",
    "\n",
    "# Perform permutation testing to get a p-value\n",
    "score, permutation_scores, pvalue = permutation_test_score(svc, X, y_pred, scoring=\"accuracy\", \n",
    "                                                           cv=cv, n_permutations=500, n_jobs=6)\n",
    "\n",
    "print(\"Classification score %s (pvalue : %s)\" % (score, pvalue))\n",
    "\n",
    "plt.hist(permutation_scores, 20, label='Permutation scores',\n",
    "         edgecolor='black')\n",
    "ylim = plt.ylim()\n",
    "plt.plot(2 * [score], ylim, '--g', linewidth=3,\n",
    "         label='Classification Score'\n",
    "         ' (pvalue %s)' % pvalue)\n",
    "plt.plot(2 * [1. / len(labels.unique())], ylim, '--k', linewidth=3, label='Luck')\n",
    "\n",
    "plt.ylim(ylim)\n",
    "plt.legend()\n",
    "plt.xlabel('Score')\n",
    "plt.show()"
   ]
  },
  {
   "cell_type": "markdown",
   "metadata": {},
   "source": [
    "## Visualize the SVM weights\n",
    "Save the SVM weights as niftis to ease in visualization."
   ]
  },
  {
   "cell_type": "code",
   "execution_count": null,
   "metadata": {},
   "outputs": [],
   "source": [
    "coef = svc.coef_\n",
    "# reverse feature selection\n",
    "coef = feature_selection.inverse_transform(coef)\n",
    "# reverse masking\n",
    "weight_img = masker.inverse_transform(coef)\n",
    "weight_img.to_filename(output_dir + '/svmweights_'+ analysis +'.nii.gz')"
   ]
  }
 ],
 "metadata": {
  "kernelspec": {
   "display_name": "Python 3",
   "language": "python",
   "name": "python3"
  },
  "language_info": {
   "codemirror_mode": {
    "name": "ipython",
    "version": 3
   },
   "file_extension": ".py",
   "mimetype": "text/x-python",
   "name": "python",
   "nbconvert_exporter": "python",
   "pygments_lexer": "ipython3",
   "version": "3.5.2"
  }
 },
 "nbformat": 4,
 "nbformat_minor": 2
}
