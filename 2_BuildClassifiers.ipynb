{
 "cells": [
  {
   "cell_type": "markdown",
   "metadata": {},
   "source": [
    "# Build the Classifier\n",
    "This notebook is dedicated to creating classifiers and run classification analyses of interest on neuroimaging data.\n",
    "\n",
    "Can we accurately classify:\n",
    "- adults vs. children\n",
    "- condition within adults\n",
    "- condition within children"
   ]
  },
  {
   "cell_type": "code",
   "execution_count": null,
   "metadata": {},
   "outputs": [],
   "source": [
    "from pandas import DataFrame, Series, read_csv\n",
    "\n",
    "# Study specific variables\n",
    "study_home = '/home/camachocm2/Analysis/KidVid_MVPA'\n",
    "standard_mask = study_home + '/template/MNI152_T1_2mm_brain_mask_KV.nii.gz'\n",
    "sub_data_file = study_home + '/doc/subjectinfo.csv'\n",
    "preproc_dir = study_home + '/analysis/preproc/betas'\n",
    "output_dir = study_home + '/analysis/classifier'\n",
    "\n",
    "conditions = read_csv(study_home + '/doc/conditionslist.csv')\n",
    "condition_labels = condition_list['labels'].tolist()\n",
    "\n",
    "subject_info = read_csv(sub_data_file)\n",
    "subjects_list = subject_info['subjID'].tolist()"
   ]
  },
  {
   "cell_type": "code",
   "execution_count": null,
   "metadata": {},
   "outputs": [],
   "source": [
    "## Create a conditions list for the feature set\n",
    "conditions['subject'] = Series(subjects_list[0], index=conditions.index)\n",
    "\n",
    "for sub in subjects_list[1:]:\n",
    "    temp=DataFrame()\n",
    "    temp['labels'] = Series(condition_labels)\n",
    "    temp['subject'] = Series(sub, index=temp.index)\n",
    "    conditions = conditions.append(temp, ignore_index=True)\n",
    "\n",
    "conditions.describe()"
   ]
  },
  {
   "cell_type": "code",
   "execution_count": null,
   "metadata": {},
   "outputs": [],
   "source": [
    "## Temporally concatenate all the parameter estimates from preproc to create a feature set\n",
    "from glob import glob\n",
    "from nipype.interfaces.fsl.utils import Merge\n",
    "files = glob(preproc_dir + '/*/betas.nii.gz')\n",
    "files = sorted(files)\n",
    "\n",
    "bold_feature_data = output_dir + '/merged_features.nii.gz'\n",
    "\n",
    "merge = Merge()\n",
    "merge.inputs.in_files = files\n",
    "merge.inputs.dimension = 't'\n",
    "merge.inputs.merged_file = bold_feature_data\n",
    "merge.run()"
   ]
  },
  {
   "cell_type": "markdown",
   "metadata": {},
   "source": [
    "## Perform the actual support vector classification"
   ]
  },
  {
   "cell_type": "code",
   "execution_count": null,
   "metadata": {},
   "outputs": [],
   "source": [
    "# Perform the support vector classification\n",
    "from nilearn.input_data import NiftiMasker\n",
    "from sklearn.svm import SVC\n",
    "from sklearn.feature_selection import SelectPercentile, f_classif\n",
    "from sklearn.pipeline import Pipeline\n",
    "svc = SVC(kernel='linear')\n",
    "\n",
    "masker = NiftiMasker(mask_img=standard_mask, smoothing_fwhm=None,\n",
    "                     standardize=True, memory=\"nilearn_cache\", memory_level=1)\n",
    "X = masker.fit_transform(bold_feature_data)\n",
    "\n",
    "feature_selection = SelectPercentile(f_classif, percentile=5)\n",
    "\n",
    "anova_svc = Pipeline([('anova', feature_selection), ('svc', svc)])\n",
    "\n",
    "anova_svc.fit(X, conditions)\n",
    "y_pred = anova_svc.predict(X)"
   ]
  },
  {
   "cell_type": "markdown",
   "metadata": {},
   "source": [
    "## Obtain prediction values via cross validation"
   ]
  },
  {
   "cell_type": "code",
   "execution_count": null,
   "metadata": {},
   "outputs": [],
   "source": [
    "# Obtain prediction values via cross validation\n",
    "from sklearn.cross_validation import LeaveOneLabelOut, cross_val_score\n",
    "\n",
    "cv = LeaveOneLabelOut(session['subject'])\n",
    "cv_scores = cross_val_score(anova_svc, X, conditions, cv=cv)\n",
    "classification_accuracy = cv_scores.mean()\n",
    "\n",
    "print(\"Classification accuracy: %.4f / Chance level: %f\" %\n",
    "      (classification_accuracy, 1. / len(conditions.unique())))"
   ]
  },
  {
   "cell_type": "markdown",
   "metadata": {},
   "source": [
    "## Visualize the SVM weights"
   ]
  },
  {
   "cell_type": "code",
   "execution_count": null,
   "metadata": {},
   "outputs": [],
   "source": []
  }
 ],
 "metadata": {
  "kernelspec": {
   "display_name": "Python 3",
   "language": "python",
   "name": "python3"
  },
  "language_info": {
   "codemirror_mode": {
    "name": "ipython",
    "version": 3
   },
   "file_extension": ".py",
   "mimetype": "text/x-python",
   "name": "python",
   "nbconvert_exporter": "python",
   "pygments_lexer": "ipython3",
   "version": "3.5.2"
  }
 },
 "nbformat": 4,
 "nbformat_minor": 2
}
