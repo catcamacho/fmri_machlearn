{
 "cells": [
  {
   "cell_type": "markdown",
   "metadata": {},
   "source": [
    "# Build the Classifier\n",
    "This notebook is dedicated to creating classifiers and run classification analyses of interest on neuroimaging data.\n",
    "\n",
    "Can we accurately classify:\n",
    "- adults vs. children\n",
    "- condition within adults\n",
    "- condition within children"
   ]
  },
  {
   "cell_type": "code",
   "execution_count": 33,
   "metadata": {},
   "outputs": [],
   "source": [
    "from pandas import DataFrame, Series, read_csv\n",
    "\n",
    "# Study specific variables\n",
    "study_home = '/home/camachocm2/Analysis/KidVid_MVPA'\n",
    "standard_mask = study_home + '/template/MNI152_T1_2mm_brain_mask_KV.nii.gz'\n",
    "template = study_home + '/template/MNI152_T1_1mm_brain.nii.gz'\n",
    "sub_data_file = study_home + '/doc/subjectinfo.csv'\n",
    "preproc_dir = study_home + '/analysis/preproc/betas'\n",
    "output_dir = study_home + '/analysis/classifier'\n",
    "\n",
    "condition_data = read_csv(study_home + '/doc/conditionslist.csv')\n",
    "subject_info = read_csv(sub_data_file)"
   ]
  },
  {
   "cell_type": "code",
   "execution_count": 34,
   "metadata": {},
   "outputs": [
    {
     "data": {
      "text/html": [
       "<div>\n",
       "<style scoped>\n",
       "    .dataframe tbody tr th:only-of-type {\n",
       "        vertical-align: middle;\n",
       "    }\n",
       "\n",
       "    .dataframe tbody tr th {\n",
       "        vertical-align: top;\n",
       "    }\n",
       "\n",
       "    .dataframe thead th {\n",
       "        text-align: right;\n",
       "    }\n",
       "</style>\n",
       "<table border=\"1\" class=\"dataframe\">\n",
       "  <thead>\n",
       "    <tr style=\"text-align: right;\">\n",
       "      <th></th>\n",
       "      <th>age</th>\n",
       "      <th>MAPDB</th>\n",
       "      <th>CBQ</th>\n",
       "    </tr>\n",
       "  </thead>\n",
       "  <tbody>\n",
       "    <tr>\n",
       "      <th>count</th>\n",
       "      <td>1224.000000</td>\n",
       "      <td>7.200000e+02</td>\n",
       "      <td>7.200000e+02</td>\n",
       "    </tr>\n",
       "    <tr>\n",
       "      <th>mean</th>\n",
       "      <td>186.007843</td>\n",
       "      <td>-3.333353e-12</td>\n",
       "      <td>-3.333294e-12</td>\n",
       "    </tr>\n",
       "    <tr>\n",
       "      <th>std</th>\n",
       "      <td>118.706330</td>\n",
       "      <td>1.000695e+00</td>\n",
       "      <td>1.000695e+00</td>\n",
       "    </tr>\n",
       "    <tr>\n",
       "      <th>min</th>\n",
       "      <td>58.000000</td>\n",
       "      <td>-1.568304e+00</td>\n",
       "      <td>-2.255473e+00</td>\n",
       "    </tr>\n",
       "    <tr>\n",
       "      <th>25%</th>\n",
       "      <td>84.500000</td>\n",
       "      <td>-9.273081e-01</td>\n",
       "      <td>-6.841020e-01</td>\n",
       "    </tr>\n",
       "    <tr>\n",
       "      <th>50%</th>\n",
       "      <td>122.100000</td>\n",
       "      <td>-9.401280e-02</td>\n",
       "      <td>-4.126833e-02</td>\n",
       "    </tr>\n",
       "    <tr>\n",
       "      <th>75%</th>\n",
       "      <td>288.000000</td>\n",
       "      <td>6.110832e-01</td>\n",
       "      <td>7.444172e-01</td>\n",
       "    </tr>\n",
       "    <tr>\n",
       "      <th>max</th>\n",
       "      <td>528.000000</td>\n",
       "      <td>2.405873e+00</td>\n",
       "      <td>1.887233e+00</td>\n",
       "    </tr>\n",
       "  </tbody>\n",
       "</table>\n",
       "</div>"
      ],
      "text/plain": [
       "               age         MAPDB           CBQ\n",
       "count  1224.000000  7.200000e+02  7.200000e+02\n",
       "mean    186.007843 -3.333353e-12 -3.333294e-12\n",
       "std     118.706330  1.000695e+00  1.000695e+00\n",
       "min      58.000000 -1.568304e+00 -2.255473e+00\n",
       "25%      84.500000 -9.273081e-01 -6.841020e-01\n",
       "50%     122.100000 -9.401280e-02 -4.126833e-02\n",
       "75%     288.000000  6.110832e-01  7.444172e-01\n",
       "max     528.000000  2.405873e+00  1.887233e+00"
      ]
     },
     "execution_count": 34,
     "metadata": {},
     "output_type": "execute_result"
    }
   ],
   "source": [
    "## Create a conditions list for the feature set\n",
    "condition_labels = condition_data['labels'].tolist()\n",
    "subjects_list = subject_info['subjID'].tolist()\n",
    "age_group_list = subject_info['group'].tolist()\n",
    "ages_mos_list = subject_info['age_mos'].tolist()\n",
    "mapdb_temploss_list = subject_info['MAPDB_temploss_std'].tolist()\n",
    "cbq_angfrust_list = subject_info['CBQ_Anger_Frustration_std'].tolist()\n",
    "\n",
    "\n",
    "conditions = condition_data\n",
    "conditions['subject'] = Series(subjects_list[0], index=conditions.index)\n",
    "conditions['ageGroup'] = Series(age_group_list[0], index=conditions.index)\n",
    "conditions['age'] = Series(ages_mos_list[0], index=conditions.index)\n",
    "conditions['MAPDB'] = Series(mapdb_temploss_list[0], index=conditions.index)\n",
    "conditions['CBQ'] = Series(cbq_angfrust_list[0], index=conditions.index)\n",
    "\n",
    "for a in range(1,len(subjects_list)):\n",
    "    temp=DataFrame()\n",
    "    temp['labels'] = Series(condition_labels)\n",
    "    temp['subject'] = Series(subjects_list[a], index=temp.index)\n",
    "    temp['ageGroup'] = Series(age_group_list[a], index=temp.index)\n",
    "    temp['age'] = Series(ages_mos_list[a], index=temp.index)\n",
    "    temp['MAPDB'] = Series(mapdb_temploss_list[a], index=temp.index)\n",
    "    temp['CBQ'] = Series(cbq_angfrust_list[a], index=temp.index)\n",
    "    conditions = conditions.append(temp, ignore_index=True)\n",
    "\n",
    "#conditions.to_csv(output_dir + '/featureset_key.csv')\n",
    "conditions.describe()"
   ]
  },
  {
   "cell_type": "code",
   "execution_count": 35,
   "metadata": {},
   "outputs": [],
   "source": [
    "## Temporally concatenate all the parameter estimates from preproc to create a feature set\n",
    "from glob import glob\n",
    "from nipype.interfaces.fsl.utils import Merge\n",
    "files = glob(preproc_dir + '/*/betas.nii.gz')\n",
    "files = sorted(files)\n",
    "\n",
    "bold_feature_data = output_dir + '/featureset.nii.gz'\n",
    "\n",
    "merge = Merge()\n",
    "merge.inputs.in_files = files\n",
    "merge.inputs.dimension = 't'\n",
    "merge.inputs.merged_file = bold_feature_data\n",
    "#merge.run()"
   ]
  },
  {
   "cell_type": "code",
   "execution_count": 40,
   "metadata": {},
   "outputs": [
    {
     "data": {
      "text/html": [
       "<div>\n",
       "<style scoped>\n",
       "    .dataframe tbody tr th:only-of-type {\n",
       "        vertical-align: middle;\n",
       "    }\n",
       "\n",
       "    .dataframe tbody tr th {\n",
       "        vertical-align: top;\n",
       "    }\n",
       "\n",
       "    .dataframe thead th {\n",
       "        text-align: right;\n",
       "    }\n",
       "</style>\n",
       "<table border=\"1\" class=\"dataframe\">\n",
       "  <thead>\n",
       "    <tr style=\"text-align: right;\">\n",
       "      <th></th>\n",
       "      <th>age</th>\n",
       "      <th>MAPDB</th>\n",
       "      <th>CBQ</th>\n",
       "    </tr>\n",
       "  </thead>\n",
       "  <tbody>\n",
       "    <tr>\n",
       "      <th>count</th>\n",
       "      <td>240.000000</td>\n",
       "      <td>2.400000e+02</td>\n",
       "      <td>2.400000e+02</td>\n",
       "    </tr>\n",
       "    <tr>\n",
       "      <th>mean</th>\n",
       "      <td>93.013333</td>\n",
       "      <td>-3.333356e-12</td>\n",
       "      <td>-3.333330e-12</td>\n",
       "    </tr>\n",
       "    <tr>\n",
       "      <th>std</th>\n",
       "      <td>21.279644</td>\n",
       "      <td>1.002090e+00</td>\n",
       "      <td>1.002090e+00</td>\n",
       "    </tr>\n",
       "    <tr>\n",
       "      <th>min</th>\n",
       "      <td>58.000000</td>\n",
       "      <td>-1.568304e+00</td>\n",
       "      <td>-2.255473e+00</td>\n",
       "    </tr>\n",
       "    <tr>\n",
       "      <th>25%</th>\n",
       "      <td>73.400000</td>\n",
       "      <td>-9.273081e-01</td>\n",
       "      <td>-6.841020e-01</td>\n",
       "    </tr>\n",
       "    <tr>\n",
       "      <th>50%</th>\n",
       "      <td>91.000000</td>\n",
       "      <td>-9.401280e-02</td>\n",
       "      <td>-4.126833e-02</td>\n",
       "    </tr>\n",
       "    <tr>\n",
       "      <th>75%</th>\n",
       "      <td>114.000000</td>\n",
       "      <td>6.110832e-01</td>\n",
       "      <td>7.444172e-01</td>\n",
       "    </tr>\n",
       "    <tr>\n",
       "      <th>max</th>\n",
       "      <td>131.400000</td>\n",
       "      <td>2.405873e+00</td>\n",
       "      <td>1.887233e+00</td>\n",
       "    </tr>\n",
       "  </tbody>\n",
       "</table>\n",
       "</div>"
      ],
      "text/plain": [
       "              age         MAPDB           CBQ\n",
       "count  240.000000  2.400000e+02  2.400000e+02\n",
       "mean    93.013333 -3.333356e-12 -3.333330e-12\n",
       "std     21.279644  1.002090e+00  1.002090e+00\n",
       "min     58.000000 -1.568304e+00 -2.255473e+00\n",
       "25%     73.400000 -9.273081e-01 -6.841020e-01\n",
       "50%     91.000000 -9.401280e-02 -4.126833e-02\n",
       "75%    114.000000  6.110832e-01  7.444172e-01\n",
       "max    131.400000  2.405873e+00  1.887233e+00"
      ]
     },
     "execution_count": 40,
     "metadata": {},
     "output_type": "execute_result"
    }
   ],
   "source": [
    "# determine which analysis to run\n",
    "analysis = 'age_neu'\n",
    "#type_svm = 'binary'\n",
    "type_svm = 'nonbinary'\n",
    "\n",
    "if analysis == 'all_conditions':\n",
    "    mask = conditions['labels'].isin(['negative','positive','neutral'])\n",
    "    labels = conditions['labels']\n",
    "elif analysis == 'adults':\n",
    "    mask = conditions['ageGroup'].isin(['adult'])\n",
    "    labels = conditions['labels']\n",
    "elif analysis == 'children':\n",
    "    mask = conditions['ageGroup'].isin(['child'])\n",
    "    labels = conditions['labels']\n",
    "elif analysis == 'allConds_predAge':\n",
    "    mask = conditions['labels'].isin(['negative','positive','neutral'])\n",
    "    labels = conditions['ageGroup']\n",
    "elif analysis == 'negative':\n",
    "    mask = conditions['labels'].isin(['negative'])\n",
    "    labels = conditions['ageGroup']\n",
    "elif analysis == 'positive':\n",
    "    mask = conditions['labels'].isin(['positive'])\n",
    "    labels = conditions['ageGroup']\n",
    "elif analysis == 'neutral':\n",
    "    mask = conditions['labels'].isin(['neutral'])\n",
    "    labels = conditions['ageGroup']\n",
    "elif analysis == 'age_neg':\n",
    "    mask = (conditions['ageGroup']=='child') & (conditions['labels']=='negative')\n",
    "    labels = conditions['age']\n",
    "elif analysis == 'age_pos':\n",
    "    mask = (conditions['ageGroup']=='child') & (conditions['labels']=='positive')\n",
    "    labels = conditions['age']\n",
    "elif analysis == 'age_neu':\n",
    "    mask = (conditions['ageGroup']=='child') & (conditions['labels']=='neutral')\n",
    "    labels = conditions['age']\n",
    "\n",
    "conditions[mask].describe()\n",
    "#results_file = open(output_dir + '/results_' + analysis + '.txt','w')"
   ]
  },
  {
   "cell_type": "markdown",
   "metadata": {},
   "source": [
    "## Perform binary support vector classification"
   ]
  },
  {
   "cell_type": "code",
   "execution_count": 12,
   "metadata": {},
   "outputs": [
    {
     "name": "stdout",
     "output_type": "stream",
     "text": [
      "Classification accuracy: 0.9260 / Chance level: 0.500000\n"
     ]
    }
   ],
   "source": [
    "if type_svm == 'binary':\n",
    "    # Perform the support vector classification\n",
    "    from nilearn.input_data import NiftiMasker\n",
    "    from sklearn.svm import SVC\n",
    "    from sklearn.feature_selection import SelectPercentile, f_classif\n",
    "    from sklearn.pipeline import Pipeline\n",
    "\n",
    "    # Set up the support vector classifier\n",
    "    svc = SVC(kernel='linear')\n",
    "    masker = NiftiMasker(mask_img=standard_mask,standardize=True, \n",
    "                         memory='nilearn_cache', memory_level=1)\n",
    "    feature_selection = SelectPercentile(f_classif, percentile=5)\n",
    "    anova_svc = Pipeline([('anova', feature_selection), ('svc', svc)])\n",
    "\n",
    "    # Run the classifier\n",
    "    X = masker.fit_transform(bold_feature_data)\n",
    "    X = X[mask]\n",
    "    maskedlabels=labels[mask]\n",
    "    anova_svc.fit(X, maskedlabels)\n",
    "    y_pred = anova_svc.predict(X)\n",
    "\n",
    "    # Obtain prediction values via cross validation\n",
    "    from sklearn.model_selection import RepeatedStratifiedKFold, cross_val_score\n",
    "\n",
    "    #cv = LeaveOneLabelOut(conditions['subject'][mask])\n",
    "    cv = RepeatedStratifiedKFold(n_splits=5, n_repeats =10)\n",
    "    cv_scores = cross_val_score(anova_svc, X, maskedlabels, cv=cv)\n",
    "    classification_accuracy = cv_scores.mean()\n",
    "\n",
    "\n",
    "    print(\"Classification accuracy: %.4f / Chance level: %f\" % \n",
    "          (classification_accuracy, 1. / len(labels.unique())))\n",
    "\n",
    "    #results_file.write(\"Classification accuracy: %.4f / Chance level: %f \\n\" % (classification_accuracy, 1. / len(labels.unique())))"
   ]
  },
  {
   "cell_type": "markdown",
   "metadata": {},
   "source": [
    "## Visualize the SVM weights\n",
    "Save the SVM weights as niftis to ease in visualization."
   ]
  },
  {
   "cell_type": "code",
   "execution_count": null,
   "metadata": {},
   "outputs": [],
   "source": [
    "coef = svc.coef_\n",
    "# reverse feature selection\n",
    "coef = feature_selection.inverse_transform(coef)\n",
    "# reverse masking\n",
    "weight_img = masker.inverse_transform(coef)\n",
    "weight_img.to_filename(output_dir + '/svmweights_'+ analysis +'.nii.gz')"
   ]
  },
  {
   "cell_type": "markdown",
   "metadata": {},
   "source": [
    "## Non-binary Classification\n",
    "\n",
    "The below cells performs non-binary classifiacation based on age and irritability scores."
   ]
  },
  {
   "cell_type": "code",
   "execution_count": 41,
   "metadata": {},
   "outputs": [],
   "source": [
    "if type_svm == 'nonbinary':\n",
    "    # Perform the support vector classification\n",
    "    from nilearn.input_data import NiftiMasker\n",
    "    from sklearn.svm import SVR\n",
    "    from sklearn.pipeline import Pipeline\n",
    "\n",
    "    # Set up the regression\n",
    "    linreg = SVR()\n",
    "    masker = NiftiMasker(mask_img=standard_mask,standardize=True, \n",
    "                         memory='nilearn_cache', memory_level=1)\n",
    "\n",
    "    # Run the regression\n",
    "    X = masker.fit_transform(bold_feature_data)\n",
    "    X = X[mask]\n",
    "    maskedlabels=labels[mask]\n",
    "    \n",
    "    svr = SVR(kernel='linear', C=1)\n",
    "    y = svr.fit(X, maskedlabels).predict(X)\n",
    "    \n",
    "    from sklearn.model_selection import RepeatedStratifiedKFold, cross_val_predict\n",
    "    \n",
    "\n",
    "    "
   ]
  },
  {
   "cell_type": "code",
   "execution_count": 42,
   "metadata": {},
   "outputs": [
    {
     "data": {
      "text/plain": [
       "<matplotlib.collections.PathCollection at 0x7fcdabc480b8>"
      ]
     },
     "execution_count": 42,
     "metadata": {},
     "output_type": "execute_result"
    },
    {
     "data": {
      "image/png": "[encoded data removed]",
      "text/plain": [
       "<Figure size 432x288 with 1 Axes>"
      ]
     },
     "metadata": {},
     "output_type": "display_data"
    }
   ],
   "source": [
    "import matplotlib.pyplot as plt\n",
    "plt.scatter(maskedlabels, y)"
   ]
  },
  {
   "cell_type": "code",
   "execution_count": 43,
   "metadata": {},
   "outputs": [],
   "source": [
    "coef = svr.coef_\n",
    "coef_image = masker.inverse_transform(coef)\n",
    "coef_image.to_filename(output_dir + '/svrweights_' + analysis + '.nii.gz')"
   ]
  },
  {
   "cell_type": "markdown",
   "metadata": {},
   "source": [
    "## Perform permutation testing to get a p-value for the classifier"
   ]
  },
  {
   "cell_type": "code",
   "execution_count": null,
   "metadata": {},
   "outputs": [],
   "source": [
    "from sklearn.model_selection import permutation_test_score\n",
    "import matplotlib.pyplot as plt\n",
    "from numpy import savetxt\n",
    "\n",
    "# Perform permutation testing to get a p-value\n",
    "score, permutation_scores, pvalue = permutation_test_score(svc, X, y_pred, scoring=\"accuracy\", \n",
    "                                                           cv=cv, n_permutations=500, n_jobs=30)\n",
    "savetxt(output_dir + '/permutation_scores_' + analysis + '.txt', permutation_scores)\n",
    "\n",
    "print(\"Classification score %s (pvalue : %s)\" % (score, pvalue))\n",
    "\n",
    "plt.hist(permutation_scores, 20, label='Permutation scores',\n",
    "         edgecolor='black')\n",
    "ylim = plt.ylim()\n",
    "plt.plot(2 * [score], ylim, '--g', linewidth=3,\n",
    "         label='Classification Score'\n",
    "         ' (pvalue %s)' % pvalue)\n",
    "plt.plot(2 * [1. / len(labels.unique())], ylim, '--k', linewidth=3, label='Luck')\n",
    "\n",
    "plt.ylim(ylim)\n",
    "plt.legend()\n",
    "plt.xlabel('Score')\n",
    "plt.savefig(output_dir + '/permutation_plot_' + analysis + '.png', transparent=True)\n",
    "plt.show()\n",
    "\n",
    "results_file.write(\"Classification score %s (pvalue : %s)\" % (score, pvalue))\n",
    "results_file.close()\n"
   ]
  },
  {
   "cell_type": "code",
   "execution_count": null,
   "metadata": {},
   "outputs": [],
   "source": [
    "#Shelve the results\n",
    "import shelve\n",
    "\n",
    "filename = output_dir + '/' + analysis + '_shelved.out'\n",
    "my_shelf = shelve.open(filename,'n') # 'n' for new\n",
    "\n",
    "for key in dir():\n",
    "    try:\n",
    "        my_shelf[key] = globals()[key]\n",
    "    except TypeError:\n",
    "        #\n",
    "        # __builtins__, my_shelf, and imported modules can not be shelved.\n",
    "        #\n",
    "        print('ERROR shelving: {0}'.format(key))\n",
    "my_shelf.close()"
   ]
  }
 ],
 "metadata": {
  "kernelspec": {
   "display_name": "Python 3",
   "language": "python",
   "name": "python3"
  },
  "language_info": {
   "codemirror_mode": {
    "name": "ipython",
    "version": 3
   },
   "file_extension": ".py",
   "mimetype": "text/x-python",
   "name": "python",
   "nbconvert_exporter": "python",
   "pygments_lexer": "ipython3",
   "version": "3.5.2"
  }
 },
 "nbformat": 4,
 "nbformat_minor": 2
}
